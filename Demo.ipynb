{
 "cells": [
  {
   "cell_type": "code",
   "execution_count": 1,
   "id": "6a3ca756",
   "metadata": {},
   "outputs": [
    {
     "name": "stdout",
     "output_type": "stream",
     "text": [
      "AI-recommended dosing regimen is\n",
      "loading dose: 400 mg 4 doses\n",
      "maintenance dose: 0 mg\n"
     ]
    },
    {
     "data": {
      "text/plain": [
       "('400 mg 4 doses', '0 mg')"
      ]
     },
     "execution_count": 1,
     "metadata": {},
     "output_type": "execute_result"
    }
   ],
   "source": [
    "#Demo.1 (index2 in non-expert dataset)\n",
    "\n",
    "import TEIC_AI\n",
    "\n",
    "#enter the following parameters\n",
    "Age = \"72\"\n",
    "BW =\"40\"#body weight (kg)\n",
    "BMI = \"18.56\"\n",
    "Ccr = \"76.46\" #creatinine clearance(mL/min)\n",
    "Alb = \"1.9\" #serun albumin(g/dL)\n",
    "T0 = \"10\" #enter the time (Only integer. e.g. 8:51 to 8 and 13:43 to 13)\n",
    "T1 = 0 #change T1 to 1 (Monday)\n",
    "T2 = 0 #change T2 to 1 (Tuesday)\n",
    "T3 = 1 #change T3 to 1 (Wednesday)\n",
    "T4 = 0 #change T4 to 1 (Thursday)\n",
    "T5 = 0 #change T5 to 1 (Friday)\n",
    "T6 = 0 #change T6 to 1 (Saturday)\n",
    "T7 = 0 #change T7 to 1 (Sunday)\n",
    "\n",
    "TEIC_AI.planning(Age,BW,BMI,Ccr,Alb,T0,T1,T2,T3,T4,T5,T6,T7)"
   ]
  },
  {
   "cell_type": "code",
   "execution_count": 2,
   "id": "12f89261",
   "metadata": {},
   "outputs": [
    {
     "name": "stdout",
     "output_type": "stream",
     "text": [
      "AI-recommended dosing regimen is\n",
      "loading dose: 600 mg 4 doses\n",
      "maintenance dose: 0 mg\n"
     ]
    },
    {
     "data": {
      "text/plain": [
       "('600 mg 4 doses', '0 mg')"
      ]
     },
     "execution_count": 2,
     "metadata": {},
     "output_type": "execute_result"
    }
   ],
   "source": [
    "#Demo.2 (index6 in non-expert dataset)\n",
    "\n",
    "import TEIC_AI\n",
    "\n",
    "#enter the following parameters\n",
    "Age = \"77\"\n",
    "BW =\"68.5\"#body weight (kg)\n",
    "BMI = \"25.63\"\n",
    "Ccr = \"43.75\" #creatinine clearance(mL/min)\n",
    "Alb = \"3\" #serun albumin(g/dL)\n",
    "T0 = \"10\" #enter the time (Only integer. e.g. 8:51 to 8 and 13:43 to 13)\n",
    "T1 = 0 #change T1 to 1 (Monday)\n",
    "T2 = 1 #change T2 to 1 (Tuesday)\n",
    "T3 = 0 #change T3 to 1 (Wednesday)\n",
    "T4 = 0 #change T4 to 1 (Thursday)\n",
    "T5 = 0 #change T5 to 1 (Friday)\n",
    "T6 = 0 #change T6 to 1 (Saturday)\n",
    "T7 = 0 #change T7 to 1 (Sunday)\n",
    "\n",
    "TEIC_AI.planning(Age,BW,BMI,Ccr,Alb,T0,T1,T2,T3,T4,T5,T6,T7)"
   ]
  },
  {
   "cell_type": "code",
   "execution_count": 3,
   "id": "d8479fcf",
   "metadata": {},
   "outputs": [
    {
     "name": "stdout",
     "output_type": "stream",
     "text": [
      "AI-recommended dosing regimen is\n",
      "loading dose: 400 mg 3 doses\n",
      "maintenance dose: 0 mg\n"
     ]
    },
    {
     "data": {
      "text/plain": [
       "('400 mg 3 doses', '0 mg')"
      ]
     },
     "execution_count": 3,
     "metadata": {},
     "output_type": "execute_result"
    }
   ],
   "source": [
    "#Demo.3 (index10 in non-expert dataset)\n",
    "\n",
    "import TEIC_AI\n",
    "\n",
    "#enter the following parameters\n",
    "Age = \"79\"\n",
    "BW =\"39.8\"#body weight (kg)\n",
    "BMI = \"15.78\"\n",
    "Ccr = \"35.83\" #creatinine clearance(mL/min)\n",
    "Alb = \"2.6\" #serun albumin(g/dL)\n",
    "T0 = \"14\" #enter the time (Only integer. e.g. 8:51 to 8 and 13:43 to 13)\n",
    "T1 = 0 #change T1 to 1 (Monday)\n",
    "T2 = 0 #change T2 to 1 (Tuesday)\n",
    "T3 = 1 #change T3 to 1 (Wednesday)\n",
    "T4 = 0 #change T4 to 1 (Thursday)\n",
    "T5 = 0 #change T5 to 1 (Friday)\n",
    "T6 = 0 #change T6 to 1 (Saturday)\n",
    "T7 = 0 #change T7 to 1 (Sunday)\n",
    "\n",
    "TEIC_AI.planning(Age,BW,BMI,Ccr,Alb,T0,T1,T2,T3,T4,T5,T6,T7)"
   ]
  },
  {
   "cell_type": "code",
   "execution_count": 4,
   "id": "5ff9ebd1",
   "metadata": {},
   "outputs": [
    {
     "name": "stdout",
     "output_type": "stream",
     "text": [
      "AI-recommended dosing regimen is\n",
      "loading dose: 400 mg 4 doses\n",
      "maintenance dose: 400 mg\n"
     ]
    },
    {
     "data": {
      "text/plain": [
       "('400 mg 4 doses', '400 mg')"
      ]
     },
     "execution_count": 4,
     "metadata": {},
     "output_type": "execute_result"
    }
   ],
   "source": [
    "#Demo.4 (index21 in non-expert dataset)\n",
    "\n",
    "import TEIC_AI\n",
    "\n",
    "#enter the following parameters\n",
    "Age = \"71\"\n",
    "BW =\"46.3\"#body weight (kg)\n",
    "BMI = \"20.86\"\n",
    "Ccr = \"89.8\" #creatinine clearance(mL/min)\n",
    "Alb = \"2.5\" #serun albumin(g/dL)\n",
    "T0 = \"8\" #enter the time (Only integer. e.g. 8:51 to 8 and 13:43 to 13)\n",
    "T1 = 1 #change T1 to 1 (Monday)\n",
    "T2 = 0 #change T2 to 1 (Tuesday)\n",
    "T3 = 0 #change T3 to 1 (Wednesday)\n",
    "T4 = 0 #change T4 to 1 (Thursday)\n",
    "T5 = 0 #change T5 to 1 (Friday)\n",
    "T6 = 0 #change T6 to 1 (Saturday)\n",
    "T7 = 0 #change T7 to 1 (Sunday)\n",
    "\n",
    "TEIC_AI.planning(Age,BW,BMI,Ccr,Alb,T0,T1,T2,T3,T4,T5,T6,T7)"
   ]
  },
  {
   "cell_type": "code",
   "execution_count": null,
   "id": "35338631",
   "metadata": {},
   "outputs": [],
   "source": []
  }
 ],
 "metadata": {
  "kernelspec": {
   "display_name": "Python 3 (ipykernel)",
   "language": "python",
   "name": "python3"
  },
  "language_info": {
   "codemirror_mode": {
    "name": "ipython",
    "version": 3
   },
   "file_extension": ".py",
   "mimetype": "text/x-python",
   "name": "python",
   "nbconvert_exporter": "python",
   "pygments_lexer": "ipython3",
   "version": "3.9.12"
  }
 },
 "nbformat": 4,
 "nbformat_minor": 5
}
